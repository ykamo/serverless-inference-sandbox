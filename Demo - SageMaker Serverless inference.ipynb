{
 "cells": [
  {
   "cell_type": "markdown",
   "id": "4c3eaf58",
   "metadata": {},
   "source": [
    "## 初期設定"
   ]
  },
  {
   "cell_type": "code",
   "execution_count": null,
   "id": "0f1b78c2",
   "metadata": {},
   "outputs": [],
   "source": [
    "import boto3\n",
    "import json\n",
    "import sagemaker\n",
    "from sagemaker.estimator import Estimator\n",
    "\n",
    "client = boto3.client(service_name=\"sagemaker\")\n",
    "runtime = boto3.client(service_name=\"sagemaker-runtime\")\n",
    "\n",
    "boto_session = boto3.session.Session()\n",
    "region = boto_session.region_name\n",
    "print(region)\n",
    "\n",
    "sagemaker_session = sagemaker.Session()\n",
    "base_job_prefix = \"demo-sagemaker-inference\"\n",
    "# role = sagemaker.get_execution_role()\n",
    "account_id = sagemaker_session.account_id()\n",
    "role = f\"arn:aws:iam::{account_id}:role/service-role/SagemakerExecutionRole\"\n",
    "print(role)\n",
    "\n",
    "default_bucket = sagemaker_session.default_bucket()\n",
    "print(f\"default_bucket = {default_bucket}\")"
   ]
  },
  {
   "cell_type": "markdown",
   "id": "237f9617",
   "metadata": {},
   "source": [
    "## model1 の設定"
   ]
  },
  {
   "cell_type": "code",
   "execution_count": null,
   "id": "46b0e4d6",
   "metadata": {},
   "outputs": [],
   "source": [
    "from time import gmtime, strftime\n",
    "\n",
    "image_uri = f\"{account_id}.dkr.ecr.{region}.amazonaws.com/{base_job_prefix}:latest\"\n",
    "\n",
    "model1_name = \"demo-serverless-model1-\" + strftime(\"%Y-%m-%d-%H-%M-%S\", gmtime())\n",
    "print(\"Model name: \" + model1_name)\n",
    "\n",
    "model1_artifacts = f\"s3://{default_bucket}/{base_job_prefix}/model1.tar.gz\"\n",
    "\n",
    "model1_env_vars = {\"SAGEMAKER_CONTAINER_LOG_LEVEL\": \"20\", \"SOME_ENV_VAR\": \"myEnvVar\"}\n",
    "\n",
    "create_model_response = client.create_model(\n",
    "    ModelName=model1_name,\n",
    "    Containers=[\n",
    "        {\n",
    "            \"Image\": image_uri,\n",
    "            \"Mode\": \"SingleModel\",\n",
    "            \"ModelDataUrl\": model1_artifacts,\n",
    "            \"Environment\": model1_env_vars,\n",
    "        }\n",
    "    ],\n",
    "    ExecutionRoleArn=role,\n",
    ")\n",
    "\n",
    "print(\"Model Arn: \" + create_model_response[\"ModelArn\"])"
   ]
  },
  {
   "cell_type": "code",
   "execution_count": null,
   "id": "54385b80",
   "metadata": {},
   "outputs": [],
   "source": [
    "epc1_name = \"demo-serverless-epc1-\" + strftime(\"%Y-%m-%d-%H-%M-%S\", gmtime())\n",
    "\n",
    "endpoint_config_response = client.create_endpoint_config(\n",
    "    EndpointConfigName=epc1_name,\n",
    "    ProductionVariants=[\n",
    "        {\n",
    "            \"VariantName\": \"Variant1\",\n",
    "            \"ModelName\": model1_name,\n",
    "            \"ServerlessConfig\": {\n",
    "                \"MemorySizeInMB\": 1024,\n",
    "                \"MaxConcurrency\": 1,\n",
    "            },\n",
    "        },\n",
    "    ],\n",
    ")\n",
    "\n",
    "print(\"Endpoint Configuration Arn: \" + endpoint_config_response[\"EndpointConfigArn\"])"
   ]
  },
  {
   "cell_type": "markdown",
   "id": "79cf9dbd",
   "metadata": {},
   "source": [
    "## モデル2の設定 (最初は使わない)"
   ]
  },
  {
   "cell_type": "code",
   "execution_count": null,
   "id": "a5bef1bc",
   "metadata": {},
   "outputs": [],
   "source": [
    "model2_name = \"demo-serverless-model2-\" + strftime(\"%Y-%m-%d-%H-%M-%S\", gmtime())\n",
    "print(\"Model name: \" + model1_name)\n",
    "\n",
    "model2_artifacts = f\"s3://{default_bucket}/{base_job_prefix}/model2.tar.gz\"\n",
    "\n",
    "model2_env_vars = {\"SAGEMAKER_CONTAINER_LOG_LEVEL\": \"20\", \"SOME_ENV_VAR\": \"myEnvVar\"}\n",
    "\n",
    "create_model_response = client.create_model(\n",
    "    ModelName=model2_name,\n",
    "    Containers=[\n",
    "        {\n",
    "            \"Image\": image_uri,\n",
    "            \"Mode\": \"SingleModel\",\n",
    "            \"ModelDataUrl\": model2_artifacts,\n",
    "            \"Environment\": model2_env_vars,\n",
    "        }\n",
    "    ],\n",
    "    ExecutionRoleArn=role,\n",
    ")\n",
    "\n",
    "print(\"Model Arn: \" + create_model_response[\"ModelArn\"])"
   ]
  },
  {
   "cell_type": "code",
   "execution_count": null,
   "id": "3f2d7c59",
   "metadata": {},
   "outputs": [],
   "source": [
    "epc2_name = \"demo-serverless-epc2-\" + strftime(\"%Y-%m-%d-%H-%M-%S\", gmtime())\n",
    "\n",
    "endpoint_config_response = client.create_endpoint_config(\n",
    "    EndpointConfigName=epc2_name,\n",
    "    ProductionVariants=[\n",
    "        {\n",
    "            \"VariantName\": \"Variant2\",\n",
    "            \"ModelName\": model2_name,\n",
    "            \"ServerlessConfig\": {\n",
    "                \"MemorySizeInMB\": 1024,\n",
    "                \"MaxConcurrency\": 1,\n",
    "            },\n",
    "        },\n",
    "    ],\n",
    ")\n",
    "\n",
    "print(\"Endpoint Configuration Arn: \" + endpoint_config_response[\"EndpointConfigArn\"])"
   ]
  },
  {
   "cell_type": "markdown",
   "id": "bd519767",
   "metadata": {},
   "source": [
    "## エンドポイントの設定"
   ]
  },
  {
   "cell_type": "code",
   "execution_count": null,
   "id": "b838d2d1",
   "metadata": {},
   "outputs": [],
   "source": [
    "endpoint_name = \"demo-serverless-ep\" + strftime(\"%Y-%m-%d-%H-%M-%S\", gmtime())\n",
    "\n",
    "create_endpoint_response = client.create_endpoint(\n",
    "    EndpointName=endpoint_name,\n",
    "    EndpointConfigName=epc1_name,\n",
    ")\n",
    "\n",
    "print(\"Endpoint Arn: \" + create_endpoint_response[\"EndpointArn\"])"
   ]
  },
  {
   "cell_type": "markdown",
   "id": "c1d2a9f8",
   "metadata": {},
   "source": [
    "## InServiceになるまで待機"
   ]
  },
  {
   "cell_type": "code",
   "execution_count": null,
   "id": "714b8a6e",
   "metadata": {},
   "outputs": [],
   "source": [
    "%%time\n",
    "\n",
    "# wait for endpoint to reach a terminal state (InService) using describe endpoint\n",
    "import time\n",
    "\n",
    "describe_endpoint_response = client.describe_endpoint(EndpointName=endpoint_name)\n",
    "\n",
    "while describe_endpoint_response[\"EndpointStatus\"] != \"InService\":\n",
    "    describe_endpoint_response = client.describe_endpoint(EndpointName=endpoint_name)\n",
    "    print(describe_endpoint_response[\"EndpointStatus\"])\n",
    "    time.sleep(15)\n",
    "\n",
    "describe_endpoint_response"
   ]
  },
  {
   "cell_type": "markdown",
   "id": "9d64d873",
   "metadata": {},
   "source": [
    "## 呼び出し"
   ]
  },
  {
   "cell_type": "code",
   "execution_count": null,
   "id": "4b1c3f53",
   "metadata": {},
   "outputs": [],
   "source": [
    "%%time\n",
    "\n",
    "response = runtime.invoke_endpoint(\n",
    "    EndpointName=endpoint_name,\n",
    "    Body=b'{\"key\": \"b\"}',\n",
    "    ContentType=\"application/json\",\n",
    ")\n",
    "\n",
    "body = response[\"Body\"].read()\n",
    "data = json.loads(body)"
   ]
  },
  {
   "cell_type": "markdown",
   "id": "03876ae4",
   "metadata": {},
   "source": [
    "## 削除"
   ]
  },
  {
   "cell_type": "code",
   "execution_count": null,
   "id": "bb71f3f9",
   "metadata": {},
   "outputs": [],
   "source": [
    "client.delete_endpoint(EndpointName=endpoint_name)\n",
    "client.delete_endpoint_config(EndpointConfigName=epc1_name)\n",
    "client.delete_model(ModelName=model1_name)\n",
    "client.delete_endpoint_config(EndpointConfigName=epc2_name)\n",
    "client.delete_model(ModelName=model2_name)"
   ]
  },
  {
   "cell_type": "code",
   "execution_count": null,
   "id": "56c31686",
   "metadata": {},
   "outputs": [],
   "source": [
    "# 完全に消すには、ECRやS3のファイルも消す必要がある"
   ]
  },
  {
   "cell_type": "markdown",
   "id": "f9e49ed2",
   "metadata": {},
   "source": [
    "## エンドポイントの切り替え"
   ]
  },
  {
   "cell_type": "code",
   "execution_count": null,
   "id": "d01eb299",
   "metadata": {},
   "outputs": [],
   "source": [
    "update_endpoint_response = client.update_endpoint(\n",
    "    EndpointName=endpoint_name,\n",
    "    EndpointConfigName=epc2_name,\n",
    ")"
   ]
  },
  {
   "cell_type": "code",
   "execution_count": null,
   "id": "c8372e61",
   "metadata": {},
   "outputs": [],
   "source": [
    "update_endpoint_response = client.update_endpoint(\n",
    "    EndpointName=endpoint_name,\n",
    "    EndpointConfigName=epc1_name,\n",
    ")"
   ]
  }
 ],
 "metadata": {
  "kernelspec": {
   "display_name": "Python 3 (ipykernel)",
   "language": "python",
   "name": "python3"
  },
  "language_info": {
   "codemirror_mode": {
    "name": "ipython",
    "version": 3
   },
   "file_extension": ".py",
   "mimetype": "text/x-python",
   "name": "python",
   "nbconvert_exporter": "python",
   "pygments_lexer": "ipython3",
   "version": "3.10.1"
  }
 },
 "nbformat": 4,
 "nbformat_minor": 5
}
